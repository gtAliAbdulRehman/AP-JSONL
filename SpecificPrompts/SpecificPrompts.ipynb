{
 "cells": [
  {
   "cell_type": "code",
   "execution_count": 1,
   "id": "1ccd1b2d",
   "metadata": {},
   "outputs": [],
   "source": [
    "import pandas as pd\n",
    "import numpy as np\n",
    "import json"
   ]
  },
  {
   "cell_type": "markdown",
   "id": "7e9410d2",
   "metadata": {},
   "source": [
    "#### Units"
   ]
  },
  {
   "cell_type": "code",
   "execution_count": 2,
   "id": "4c987e1c",
   "metadata": {},
   "outputs": [
    {
     "data": {
      "text/html": [
       "<div>\n",
       "<style scoped>\n",
       "    .dataframe tbody tr th:only-of-type {\n",
       "        vertical-align: middle;\n",
       "    }\n",
       "\n",
       "    .dataframe tbody tr th {\n",
       "        vertical-align: top;\n",
       "    }\n",
       "\n",
       "    .dataframe thead th {\n",
       "        text-align: right;\n",
       "    }\n",
       "</style>\n",
       "<table border=\"1\" class=\"dataframe\">\n",
       "  <thead>\n",
       "    <tr style=\"text-align: right;\">\n",
       "      <th></th>\n",
       "      <th>Unit</th>\n",
       "      <th>Title</th>\n",
       "      <th>DevUnderstanding</th>\n",
       "      <th>ThinkingPrac</th>\n",
       "      <th>ExamPrep</th>\n",
       "    </tr>\n",
       "  </thead>\n",
       "  <tbody>\n",
       "    <tr>\n",
       "      <th>0</th>\n",
       "      <td>1</td>\n",
       "      <td>Primitive Types</td>\n",
       "      <td>This unit introduces students to the Java prog...</td>\n",
       "      <td>When writing programs, programmers use \\nmathe...</td>\n",
       "      <td>When writing programs, programmers use \\nmathe...</td>\n",
       "    </tr>\n",
       "    <tr>\n",
       "      <th>1</th>\n",
       "      <td>2</td>\n",
       "      <td>Using Objects</td>\n",
       "      <td>In the first unit, students used primitive typ...</td>\n",
       "      <td>The study of computer science involves \\nimple...</td>\n",
       "      <td>During the free-response portion of the exam, ...</td>\n",
       "    </tr>\n",
       "    <tr>\n",
       "      <th>2</th>\n",
       "      <td>3</td>\n",
       "      <td>Boolean Expressions and if Statements</td>\n",
       "      <td>Algorithms are composed of three building bloc...</td>\n",
       "      <td>Selection allows programmers to incorporate \\n...</td>\n",
       "      <td>The study of computer science involves the \ a...</td>\n",
       "    </tr>\n",
       "    <tr>\n",
       "      <th>3</th>\n",
       "      <td>4</td>\n",
       "      <td>Iteration</td>\n",
       "      <td>This unit focuses on iteration using while and...</td>\n",
       "      <td>Students should be able to determine the \\nres...</td>\n",
       "      <td>While the concept of iteration is tested in \\n...</td>\n",
       "    </tr>\n",
       "    <tr>\n",
       "      <th>4</th>\n",
       "      <td>5</td>\n",
       "      <td>Writing Classes</td>\n",
       "      <td>This unit will pull together information from ...</td>\n",
       "      <td>Computer scientists use computers to \\nstudy a...</td>\n",
       "      <td>On the free-response section of the exam, \\nst...</td>\n",
       "    </tr>\n",
       "  </tbody>\n",
       "</table>\n",
       "</div>"
      ],
      "text/plain": [
       "   Unit                                  Title  \\\n",
       "0     1                        Primitive Types   \n",
       "1     2                         Using Objects    \n",
       "2     3  Boolean Expressions and if Statements   \n",
       "3     4                              Iteration   \n",
       "4     5                        Writing Classes   \n",
       "\n",
       "                                    DevUnderstanding  \\\n",
       "0  This unit introduces students to the Java prog...   \n",
       "1  In the first unit, students used primitive typ...   \n",
       "2  Algorithms are composed of three building bloc...   \n",
       "3  This unit focuses on iteration using while and...   \n",
       "4  This unit will pull together information from ...   \n",
       "\n",
       "                                        ThinkingPrac  \\\n",
       "0  When writing programs, programmers use \\nmathe...   \n",
       "1  The study of computer science involves \\nimple...   \n",
       "2  Selection allows programmers to incorporate \\n...   \n",
       "3  Students should be able to determine the \\nres...   \n",
       "4  Computer scientists use computers to \\nstudy a...   \n",
       "\n",
       "                                            ExamPrep  \n",
       "0  When writing programs, programmers use \\nmathe...  \n",
       "1  During the free-response portion of the exam, ...  \n",
       "2  The study of computer science involves the \ a...  \n",
       "3  While the concept of iteration is tested in \\n...  \n",
       "4  On the free-response section of the exam, \\nst...  "
      ]
     },
     "execution_count": 2,
     "metadata": {},
     "output_type": "execute_result"
    }
   ],
   "source": [
    "unit_data = pd.read_excel('College Board Standards.xlsx', sheet_name = 'UNIT')\n",
    "unit_data.head()"
   ]
  },
  {
   "cell_type": "code",
   "execution_count": 3,
   "id": "aaa31430",
   "metadata": {},
   "outputs": [],
   "source": [
    "##FOR DEVELOPING UNDERSTANDING\n",
    "\n",
    "du = []\n",
    "for unit in unit_data.itertuples(index = False):\n",
    "    prompt = f\"What does Unit {unit[0]} cover in AP Computer Science A?\\n\\n###\\n\\n\"\n",
    "    completion = f\"{unit[2]}###\"\n",
    "    du.append({\"prompt\": prompt, \"completion\":completion})\n",
    "\n",
    "with open(\"units.jsonl\", \"w\") as units:\n",
    "    json.dump(du, units)"
   ]
  },
  {
   "cell_type": "code",
   "execution_count": 4,
   "id": "2e0606e8",
   "metadata": {},
   "outputs": [],
   "source": [
    "with open('units.jsonl', \"r\") as f:\n",
    "    du_1 = json.load(f)\n",
    "\n",
    "with open('units.jsonl', \"w\") as f:\n",
    "    for i in range(len(du_1)):\n",
    "        json.dump(du_1[i], f)\n",
    "        if i != len(du_1) - 1:\n",
    "            f.write('\\n')"
   ]
  },
  {
   "cell_type": "code",
   "execution_count": 5,
   "id": "f1ca189d",
   "metadata": {},
   "outputs": [],
   "source": [
    "###FOR BUILDING COMPUTATIONAL THINKING\n",
    "\n",
    "ct = []\n",
    "for ctxt in unit_data.itertuples(index = False):\n",
    "    prompt = f\"What computational thinking practices does the College Board suggest building in Unit {ctxt[0]} of AP Computer Science A?\\n\\n###\\n\\n\"\n",
    "    completion = f\"{ctxt[3]}###\"\n",
    "    ct.append({\"prompt\": prompt, \"completion\":completion})\n",
    "\n",
    "with open(\"compthink.jsonl\", \"w\") as cts:\n",
    "    json.dump(ct, cts)"
   ]
  },
  {
   "cell_type": "code",
   "execution_count": 6,
   "id": "1d833b67",
   "metadata": {},
   "outputs": [],
   "source": [
    "with open('compthink.jsonl', \"r\") as f:\n",
    "    ct_1 = json.load(f)\n",
    "\n",
    "with open('compthink.jsonl', \"w\") as f:\n",
    "    for i in range(len(ct_1)):\n",
    "        json.dump(ct_1[i], f)\n",
    "        if i != len(ct_1) - 1:\n",
    "            f.write('\\n')"
   ]
  },
  {
   "cell_type": "code",
   "execution_count": 7,
   "id": "c7d3854a",
   "metadata": {},
   "outputs": [],
   "source": [
    "###FOR PREPARING FOR THE AP EXAM\n",
    "\n",
    "ap = []\n",
    "for aptxt in unit_data.itertuples(index = False):\n",
    "    prompt = f\"What AP Exam preparation techniques does College Board suggest students practice in Unit {aptxt[0]} of AP Computer Science A?\\n\\n###\\n\\n\"\n",
    "    completion = f\"{aptxt[3]}###\"\n",
    "    ap.append({\"prompt\": prompt, \"completion\":completion})\n",
    "\n",
    "with open(\"apPrep.jsonl\", \"w\") as ats:\n",
    "    json.dump(ap, ats)"
   ]
  },
  {
   "cell_type": "code",
   "execution_count": 8,
   "id": "187828e7",
   "metadata": {},
   "outputs": [],
   "source": [
    "with open('apPrep.jsonl', \"r\") as f:\n",
    "    ap_1 = json.load(f)\n",
    "\n",
    "with open('apPrep.jsonl', \"w\") as f:\n",
    "    for i in range(len(ap_1)):\n",
    "        json.dump(ap_1[i], f)\n",
    "        if i != len(ap_1) - 1:\n",
    "            f.write('\\n')"
   ]
  },
  {
   "cell_type": "markdown",
   "id": "da2cbe9b",
   "metadata": {},
   "source": [
    "#### Topics"
   ]
  },
  {
   "cell_type": "code",
   "execution_count": 9,
   "id": "80d92741",
   "metadata": {},
   "outputs": [
    {
     "data": {
      "text/html": [
       "<div>\n",
       "<style scoped>\n",
       "    .dataframe tbody tr th:only-of-type {\n",
       "        vertical-align: middle;\n",
       "    }\n",
       "\n",
       "    .dataframe tbody tr th {\n",
       "        vertical-align: top;\n",
       "    }\n",
       "\n",
       "    .dataframe thead th {\n",
       "        text-align: right;\n",
       "    }\n",
       "</style>\n",
       "<table border=\"1\" class=\"dataframe\">\n",
       "  <thead>\n",
       "    <tr style=\"text-align: right;\">\n",
       "      <th></th>\n",
       "      <th>Unit</th>\n",
       "      <th>Lesson</th>\n",
       "      <th>Title</th>\n",
       "      <th>Lesson:Title</th>\n",
       "    </tr>\n",
       "  </thead>\n",
       "  <tbody>\n",
       "    <tr>\n",
       "      <th>0</th>\n",
       "      <td>1</td>\n",
       "      <td>1.1</td>\n",
       "      <td>Why Programming? Why Java?</td>\n",
       "      <td>1.1: Why Programming? Why Java?</td>\n",
       "    </tr>\n",
       "    <tr>\n",
       "      <th>1</th>\n",
       "      <td>1</td>\n",
       "      <td>1.2</td>\n",
       "      <td>Variables and Data Types</td>\n",
       "      <td>1.2: Variables and Data Types</td>\n",
       "    </tr>\n",
       "    <tr>\n",
       "      <th>2</th>\n",
       "      <td>1</td>\n",
       "      <td>1.3</td>\n",
       "      <td>Expressions and Assignment Statements</td>\n",
       "      <td>1.3: Expressions and Assignment Statements</td>\n",
       "    </tr>\n",
       "    <tr>\n",
       "      <th>3</th>\n",
       "      <td>1</td>\n",
       "      <td>1.4</td>\n",
       "      <td>Compound Assignment Operators</td>\n",
       "      <td>1.4: Compound Assignment Operators</td>\n",
       "    </tr>\n",
       "    <tr>\n",
       "      <th>4</th>\n",
       "      <td>1</td>\n",
       "      <td>1.5</td>\n",
       "      <td>Casting and Ranges of Variables</td>\n",
       "      <td>1.5: Casting and Ranges of Variables</td>\n",
       "    </tr>\n",
       "  </tbody>\n",
       "</table>\n",
       "</div>"
      ],
      "text/plain": [
       "   Unit  Lesson                                  Title  \\\n",
       "0     1     1.1             Why Programming? Why Java?   \n",
       "1     1     1.2               Variables and Data Types   \n",
       "2     1     1.3  Expressions and Assignment Statements   \n",
       "3     1     1.4          Compound Assignment Operators   \n",
       "4     1     1.5        Casting and Ranges of Variables   \n",
       "\n",
       "                                 Lesson:Title  \n",
       "0             1.1: Why Programming? Why Java?  \n",
       "1               1.2: Variables and Data Types  \n",
       "2  1.3: Expressions and Assignment Statements  \n",
       "3          1.4: Compound Assignment Operators  \n",
       "4        1.5: Casting and Ranges of Variables  "
      ]
     },
     "execution_count": 9,
     "metadata": {},
     "output_type": "execute_result"
    }
   ],
   "source": [
    "topic_data = pd.read_excel('College Board Standards.xlsx', sheet_name = 'Units')\n",
    "topic_data.head()"
   ]
  },
  {
   "cell_type": "code",
   "execution_count": 10,
   "id": "3a297900",
   "metadata": {},
   "outputs": [],
   "source": [
    "tp = []\n",
    "for topic in topic_data.itertuples(index = False):\n",
    "    prompt = f\"What is AP Computer Science A Topic {topic[1]}?\\n\\n###\\n\\n\"\n",
    "    completion = f\"{topic[2]}###\"\n",
    "    tp.append({\"prompt\": prompt, \"completion\":completion})\n",
    "\n",
    "with open(\"topics.jsonl\", \"w\") as topics:\n",
    "    json.dump(tp, topics)"
   ]
  },
  {
   "cell_type": "code",
   "execution_count": 11,
   "id": "67c5115c",
   "metadata": {},
   "outputs": [],
   "source": [
    "with open('topics.jsonl', \"r\") as f:\n",
    "    tp_1 = json.load(f)\n",
    "\n",
    "with open('topics.jsonl', \"w\") as f:\n",
    "    for i in range(len(tp_1)):\n",
    "        json.dump(tp_1[i], f)\n",
    "        if i != len(tp_1) - 1:\n",
    "            f.write('\\n')"
   ]
  },
  {
   "cell_type": "markdown",
   "id": "cda4f849",
   "metadata": {},
   "source": [
    "#### Enduring Understanding"
   ]
  },
  {
   "cell_type": "code",
   "execution_count": 12,
   "id": "7f4708ac",
   "metadata": {},
   "outputs": [
    {
     "data": {
      "text/html": [
       "<div>\n",
       "<style scoped>\n",
       "    .dataframe tbody tr th:only-of-type {\n",
       "        vertical-align: middle;\n",
       "    }\n",
       "\n",
       "    .dataframe tbody tr th {\n",
       "        vertical-align: top;\n",
       "    }\n",
       "\n",
       "    .dataframe thead th {\n",
       "        text-align: right;\n",
       "    }\n",
       "</style>\n",
       "<table border=\"1\" class=\"dataframe\">\n",
       "  <thead>\n",
       "    <tr style=\"text-align: right;\">\n",
       "      <th></th>\n",
       "      <th>Standard</th>\n",
       "      <th>EnduringUnderstanding</th>\n",
       "    </tr>\n",
       "  </thead>\n",
       "  <tbody>\n",
       "    <tr>\n",
       "      <th>0</th>\n",
       "      <td>MOD-1</td>\n",
       "      <td>Some objects or concepts are so frequently rep...</td>\n",
       "    </tr>\n",
       "    <tr>\n",
       "      <th>1</th>\n",
       "      <td>MOD-2</td>\n",
       "      <td>Programmers use code to represent a physical o...</td>\n",
       "    </tr>\n",
       "    <tr>\n",
       "      <th>2</th>\n",
       "      <td>MOD-3</td>\n",
       "      <td>When multiple classes contain common attribute...</td>\n",
       "    </tr>\n",
       "    <tr>\n",
       "      <th>3</th>\n",
       "      <td>VAR-1</td>\n",
       "      <td>To find specific solutions to generalizable pr...</td>\n",
       "    </tr>\n",
       "    <tr>\n",
       "      <th>4</th>\n",
       "      <td>VAR-2</td>\n",
       "      <td>To manage large amounts of data or complex rel...</td>\n",
       "    </tr>\n",
       "  </tbody>\n",
       "</table>\n",
       "</div>"
      ],
      "text/plain": [
       "  Standard                              EnduringUnderstanding\n",
       "0    MOD-1  Some objects or concepts are so frequently rep...\n",
       "1    MOD-2  Programmers use code to represent a physical o...\n",
       "2    MOD-3  When multiple classes contain common attribute...\n",
       "3    VAR-1  To find specific solutions to generalizable pr...\n",
       "4    VAR-2  To manage large amounts of data or complex rel..."
      ]
     },
     "execution_count": 12,
     "metadata": {},
     "output_type": "execute_result"
    }
   ],
   "source": [
    "###FOR ENDURING UNDERSTANDING\n",
    "\n",
    "eu_data = pd.read_excel('College Board Standards.xlsx', sheet_name = 'STANDARD')\n",
    "eu_data.head()"
   ]
  },
  {
   "cell_type": "code",
   "execution_count": 13,
   "id": "e27e04f0",
   "metadata": {},
   "outputs": [],
   "source": [
    "eu = []\n",
    "for eutxt in eu_data.itertuples(index = False):\n",
    "    prompt = f\"In AP Computer Science A, what is the College Board Enduring Understanding standard for {eutxt[0]}?\\n\\n###\\n\\n\"\n",
    "    completion = f\"{eutxt[1]}###\"\n",
    "    eu.append({\"prompt\": prompt, \"completion\":completion})\n",
    "\n",
    "with open(\"enUnderstanding.jsonl\", \"w\") as eus:\n",
    "    json.dump(eu, eus)"
   ]
  },
  {
   "cell_type": "code",
   "execution_count": 14,
   "id": "14b7e3f6",
   "metadata": {},
   "outputs": [],
   "source": [
    "with open('enUnderstanding.jsonl', \"r\") as f:\n",
    "    eu_1 = json.load(f)\n",
    "\n",
    "with open('enUnderstanding.jsonl', \"w\") as f:\n",
    "    for i in range(len(eu_1)):\n",
    "        json.dump(eu_1[i], f)\n",
    "        if i != len(eu_1) - 1:\n",
    "            f.write('\\n')"
   ]
  },
  {
   "cell_type": "markdown",
   "id": "92ab90da",
   "metadata": {},
   "source": [
    "#### Learning Objectives"
   ]
  },
  {
   "cell_type": "code",
   "execution_count": 15,
   "id": "74f0ca74",
   "metadata": {},
   "outputs": [
    {
     "data": {
      "text/html": [
       "<div>\n",
       "<style scoped>\n",
       "    .dataframe tbody tr th:only-of-type {\n",
       "        vertical-align: middle;\n",
       "    }\n",
       "\n",
       "    .dataframe tbody tr th {\n",
       "        vertical-align: top;\n",
       "    }\n",
       "\n",
       "    .dataframe thead th {\n",
       "        text-align: right;\n",
       "    }\n",
       "</style>\n",
       "<table border=\"1\" class=\"dataframe\">\n",
       "  <thead>\n",
       "    <tr style=\"text-align: right;\">\n",
       "      <th></th>\n",
       "      <th>Standard</th>\n",
       "      <th>LearningObjective</th>\n",
       "    </tr>\n",
       "  </thead>\n",
       "  <tbody>\n",
       "    <tr>\n",
       "      <th>0</th>\n",
       "      <td>MOD-1.A</td>\n",
       "      <td>Call System class methods to generate output t...</td>\n",
       "    </tr>\n",
       "    <tr>\n",
       "      <th>1</th>\n",
       "      <td>VAR-1.A</td>\n",
       "      <td>Create string literals</td>\n",
       "    </tr>\n",
       "    <tr>\n",
       "      <th>2</th>\n",
       "      <td>VAR-1.B</td>\n",
       "      <td>Identify the most appropriate \\ndata type cate...</td>\n",
       "    </tr>\n",
       "    <tr>\n",
       "      <th>3</th>\n",
       "      <td>VAR-1.C</td>\n",
       "      <td>Declare variables of the \\ncorrect types to re...</td>\n",
       "    </tr>\n",
       "    <tr>\n",
       "      <th>4</th>\n",
       "      <td>CON-1.A</td>\n",
       "      <td>Evaluate arithmetic \\nexpressions in a program...</td>\n",
       "    </tr>\n",
       "  </tbody>\n",
       "</table>\n",
       "</div>"
      ],
      "text/plain": [
       "   Standard                                  LearningObjective\n",
       "0   MOD-1.A  Call System class methods to generate output t...\n",
       "1  VAR-1.A                              Create string literals\n",
       "2   VAR-1.B  Identify the most appropriate \\ndata type cate...\n",
       "3   VAR-1.C  Declare variables of the \\ncorrect types to re...\n",
       "4   CON-1.A  Evaluate arithmetic \\nexpressions in a program..."
      ]
     },
     "execution_count": 15,
     "metadata": {},
     "output_type": "execute_result"
    }
   ],
   "source": [
    "###FOR LEARNING OBJECTIVES\n",
    "\n",
    "lo_data = pd.read_excel('College Board Standards.xlsx', sheet_name = 'LEARNOBJ')\n",
    "lo_data.head()"
   ]
  },
  {
   "cell_type": "code",
   "execution_count": 16,
   "id": "f14b78c8",
   "metadata": {},
   "outputs": [],
   "source": [
    "lo = []\n",
    "for lotxt in lo_data.itertuples(index = False):\n",
    "    prompt = f\"In AP Computer Science A, what is the College Board Learning Objective standard {lotxt[0]}?\\n\\n###\\n\\n\"\n",
    "    completion = f\"{lotxt[1]}###\"\n",
    "    lo.append({\"prompt\": prompt, \"completion\":completion})\n",
    "\n",
    "with open(\"Objectives.jsonl\", \"w\") as los:\n",
    "    json.dump(lo, los)"
   ]
  },
  {
   "cell_type": "code",
   "execution_count": 17,
   "id": "3ccfc960",
   "metadata": {},
   "outputs": [],
   "source": [
    "with open('Objectives.jsonl', \"r\") as f:\n",
    "    lo_1 = json.load(f)\n",
    "\n",
    "with open('Objectives.jsonl', \"w\") as f:\n",
    "    for i in range(len(lo_1)):\n",
    "        json.dump(lo_1[i], f)\n",
    "        if i != len(lo_1) - 1:\n",
    "            f.write('\\n')"
   ]
  },
  {
   "cell_type": "markdown",
   "id": "6ea3aebd",
   "metadata": {},
   "source": [
    "#### Essential Knowledge"
   ]
  },
  {
   "cell_type": "code",
   "execution_count": 18,
   "id": "6da53be3",
   "metadata": {},
   "outputs": [
    {
     "data": {
      "text/html": [
       "<div>\n",
       "<style scoped>\n",
       "    .dataframe tbody tr th:only-of-type {\n",
       "        vertical-align: middle;\n",
       "    }\n",
       "\n",
       "    .dataframe tbody tr th {\n",
       "        vertical-align: top;\n",
       "    }\n",
       "\n",
       "    .dataframe thead th {\n",
       "        text-align: right;\n",
       "    }\n",
       "</style>\n",
       "<table border=\"1\" class=\"dataframe\">\n",
       "  <thead>\n",
       "    <tr style=\"text-align: right;\">\n",
       "      <th></th>\n",
       "      <th>Standard</th>\n",
       "      <th>EssentialKnowledge</th>\n",
       "    </tr>\n",
       "  </thead>\n",
       "  <tbody>\n",
       "    <tr>\n",
       "      <th>0</th>\n",
       "      <td>MOD-1.A.1</td>\n",
       "      <td>System.out.print and System.out. println displ...</td>\n",
       "    </tr>\n",
       "    <tr>\n",
       "      <th>1</th>\n",
       "      <td>MOD-1.A.2</td>\n",
       "      <td>System.out.println moves the cursor to a new l...</td>\n",
       "    </tr>\n",
       "    <tr>\n",
       "      <th>2</th>\n",
       "      <td>VAR-1.A.1</td>\n",
       "      <td>A string literal is enclosed in double quotes.</td>\n",
       "    </tr>\n",
       "    <tr>\n",
       "      <th>3</th>\n",
       "      <td>VAR-1.B.1</td>\n",
       "      <td>A type is a set of values (a domain) and a set...</td>\n",
       "    </tr>\n",
       "    <tr>\n",
       "      <th>4</th>\n",
       "      <td>VAR-1.B.2</td>\n",
       "      <td>Data types can be categorized as either primit...</td>\n",
       "    </tr>\n",
       "  </tbody>\n",
       "</table>\n",
       "</div>"
      ],
      "text/plain": [
       "    Standard                                 EssentialKnowledge\n",
       "0  MOD-1.A.1  System.out.print and System.out. println displ...\n",
       "1  MOD-1.A.2  System.out.println moves the cursor to a new l...\n",
       "2  VAR-1.A.1     A string literal is enclosed in double quotes.\n",
       "3  VAR-1.B.1  A type is a set of values (a domain) and a set...\n",
       "4  VAR-1.B.2  Data types can be categorized as either primit..."
      ]
     },
     "execution_count": 18,
     "metadata": {},
     "output_type": "execute_result"
    }
   ],
   "source": [
    "###FOR ESSENTIAL KNOWLEDGE\n",
    "\n",
    "ek_data = pd.read_excel('College Board Standards.xlsx', sheet_name = 'ESSENTIAL-K')\n",
    "ek_data.head()"
   ]
  },
  {
   "cell_type": "code",
   "execution_count": 19,
   "id": "e22fdea2",
   "metadata": {},
   "outputs": [],
   "source": [
    "ek = []\n",
    "for ektxt in ek_data.itertuples(index = False):\n",
    "    prompt = f\"In AP Computer Science A, what is the College Board Essential Knowledge standard {ektxt[0]}?\\n\\n###\\n\\n\"\n",
    "    completion = f\"{ektxt[1]}###\"\n",
    "    ek.append({\"prompt\": prompt, \"completion\":completion})\n",
    "\n",
    "with open(\"eKnowledge.jsonl\", \"w\") as eks:\n",
    "    json.dump(ek, eks)"
   ]
  },
  {
   "cell_type": "code",
   "execution_count": 20,
   "id": "92227fae",
   "metadata": {},
   "outputs": [],
   "source": [
    "with open('eKnowledge.jsonl', \"r\") as f:\n",
    "    ek_1 = json.load(f)\n",
    "\n",
    "with open('eKnowledge.jsonl', \"w\") as f:\n",
    "    for i in range(len(ek_1)):\n",
    "        json.dump(ek_1[i], f)\n",
    "        if i != len(ek_1) - 1:\n",
    "            f.write('\\n')"
   ]
  },
  {
   "cell_type": "code",
   "execution_count": null,
   "id": "20039bd0",
   "metadata": {},
   "outputs": [],
   "source": []
  }
 ],
 "metadata": {
  "kernelspec": {
   "display_name": "Python 3 (ipykernel)",
   "language": "python",
   "name": "python3"
  },
  "language_info": {
   "codemirror_mode": {
    "name": "ipython",
    "version": 3
   },
   "file_extension": ".py",
   "mimetype": "text/x-python",
   "name": "python",
   "nbconvert_exporter": "python",
   "pygments_lexer": "ipython3",
   "version": "3.10.9"
  }
 },
 "nbformat": 4,
 "nbformat_minor": 5
}
